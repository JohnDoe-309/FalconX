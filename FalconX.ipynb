{
  "nbformat": 4,
  "nbformat_minor": 0,
  "metadata": {
    "colab": {
      "name": "FalconX.ipynb",
      "provenance": [],
      "authorship_tag": "ABX9TyPStkDCaK1vfht9vgbAwVbt",
      "include_colab_link": true
    },
    "kernelspec": {
      "display_name": "Python 3",
      "name": "python3"
    },
    "language_info": {
      "name": "python"
    }
  },
  "cells": [
    {
      "cell_type": "markdown",
      "metadata": {
        "id": "view-in-github",
        "colab_type": "text"
      },
      "source": [
        "<a href=\"https://colab.research.google.com/github/JohnDoe-309/FalconX/blob/main/FalconX.ipynb\" target=\"_parent\"><img src=\"https://colab.research.google.com/assets/colab-badge.svg\" alt=\"Open In Colab\"/></a>"
      ]
    },
    {
      "cell_type": "code",
      "metadata": {
        "colab": {
          "base_uri": "https://localhost:8080/"
        },
        "id": "YV32zCow2S5P",
        "outputId": "ca0bdde0-915f-49fc-f5b4-f4d3531518f4"
      },
      "source": [
        "!pip install plotly\n",
        "!pip install pandas\n",
        "!pip install gql"
      ],
      "execution_count": 1,
      "outputs": [
        {
          "output_type": "stream",
          "text": [
            "Requirement already satisfied: plotly in /usr/local/lib/python3.7/dist-packages (4.4.1)\n",
            "Requirement already satisfied: six in /usr/local/lib/python3.7/dist-packages (from plotly) (1.16.0)\n",
            "Requirement already satisfied: retrying>=1.3.3 in /usr/local/lib/python3.7/dist-packages (from plotly) (1.3.3)\n",
            "Requirement already satisfied: pandas in /usr/local/lib/python3.7/dist-packages (1.1.5)\n",
            "Requirement already satisfied: numpy>=1.15.4 in /usr/local/lib/python3.7/dist-packages (from pandas) (1.19.5)\n",
            "Requirement already satisfied: pytz>=2017.2 in /usr/local/lib/python3.7/dist-packages (from pandas) (2018.9)\n",
            "Requirement already satisfied: python-dateutil>=2.7.3 in /usr/local/lib/python3.7/dist-packages (from pandas) (2.8.1)\n",
            "Requirement already satisfied: six>=1.5 in /usr/local/lib/python3.7/dist-packages (from python-dateutil>=2.7.3->pandas) (1.16.0)\n",
            "Requirement already satisfied: gql in /usr/local/lib/python3.7/dist-packages (2.0.0)\n",
            "Requirement already satisfied: requests<3,>=2.12 in /usr/local/lib/python3.7/dist-packages (from gql) (2.23.0)\n",
            "Requirement already satisfied: six>=1.10.0 in /usr/local/lib/python3.7/dist-packages (from gql) (1.16.0)\n",
            "Requirement already satisfied: promise<3,>=2.3 in /usr/local/lib/python3.7/dist-packages (from gql) (2.3)\n",
            "Requirement already satisfied: graphql-core<3,>=2.3.2 in /usr/local/lib/python3.7/dist-packages (from gql) (2.3.2)\n",
            "Requirement already satisfied: certifi>=2017.4.17 in /usr/local/lib/python3.7/dist-packages (from requests<3,>=2.12->gql) (2021.5.30)\n",
            "Requirement already satisfied: urllib3!=1.25.0,!=1.25.1,<1.26,>=1.21.1 in /usr/local/lib/python3.7/dist-packages (from requests<3,>=2.12->gql) (1.24.3)\n",
            "Requirement already satisfied: chardet<4,>=3.0.2 in /usr/local/lib/python3.7/dist-packages (from requests<3,>=2.12->gql) (3.0.4)\n",
            "Requirement already satisfied: idna<3,>=2.5 in /usr/local/lib/python3.7/dist-packages (from requests<3,>=2.12->gql) (2.10)\n",
            "Requirement already satisfied: rx<2,>=1.6 in /usr/local/lib/python3.7/dist-packages (from graphql-core<3,>=2.3.2->gql) (1.6.1)\n"
          ],
          "name": "stdout"
        }
      ]
    },
    {
      "cell_type": "code",
      "metadata": {
        "id": "d4Bz4srA29I6"
      },
      "source": [
        "import pandas as pd\n",
        "import plotly.express as px\n",
        "from gql import gql, Client\n",
        "from gql.transport.requests import RequestsHTTPTransport"
      ],
      "execution_count": 2,
      "outputs": []
    },
    {
      "cell_type": "code",
      "metadata": {
        "id": "nfldlcSPGRaX",
        "colab": {
          "base_uri": "https://localhost:8080/",
          "height": 35
        },
        "outputId": "dc318f8f-048d-453c-bbf4-7196c5a2e6c6"
      },
      "source": [
        "#for finding the paid id for UNI/WETH, since UNI/WETH has high transaction count\n",
        "'''\n",
        "{\n",
        "  pairs(first:100 orderBy:txCount orderDirection:desc) {\n",
        "    id\n",
        "    token0 {\n",
        "      name\n",
        "      symbol\n",
        "    }\n",
        "    token1 {\n",
        "      name\n",
        "      symbol      \n",
        "    }\n",
        "  }\n",
        "}\n",
        "'''\n"
      ],
      "execution_count": 3,
      "outputs": [
        {
          "output_type": "execute_result",
          "data": {
            "application/vnd.google.colaboratory.intrinsic+json": {
              "type": "string"
            },
            "text/plain": [
              "'\\n{\\n  pairs(first:100 orderBy:txCount orderDirection:desc) {\\n    id\\n    token0 {\\n      name\\n      symbol\\n    }\\n    token1 {\\n      name\\n      symbol      \\n    }\\n  }\\n}\\n'"
            ]
          },
          "metadata": {
            "tags": []
          },
          "execution_count": 3
        }
      ]
    },
    {
      "cell_type": "code",
      "metadata": {
        "id": "H2Yqax1B35mV"
      },
      "source": [
        "sample_transport = RequestsHTTPTransport(\n",
        "    url = \"https://api.thegraph.com/subgraphs/name/uniswap/uniswap-v2\",\n",
        "    verify = True,\n",
        "    retries = 3,\n",
        ")\n",
        "\n",
        "client = Client(\n",
        "    transport = sample_transport)\n",
        "#pair id for UNI/WETH is: 0xd3d2e2692501a5c9ca623199d38826e513033a17\n",
        "\n",
        "query = gql('''\n",
        "query{\n",
        "  swaps(orderBy: timestamp, orderDirection: desc, where:{pair: \"0xd3d2e2692501a5c9ca623199d38826e513033a17\"}) {\n",
        "    amount0In\n",
        "    amount1In\n",
        "    amount0Out\n",
        "    amount1Out\n",
        "    id\n",
        "    amountUSD\n",
        "    pair {\n",
        "      token0 {\n",
        "        id\n",
        "        symbol\n",
        "      }\n",
        "      token1 {\n",
        "        id\n",
        "        symbol\n",
        "      }\n",
        "    }\n",
        "  }\n",
        "}\n",
        "''')\n",
        "\n",
        "response = client.execute(query)\n"
      ],
      "execution_count": 4,
      "outputs": []
    },
    {
      "cell_type": "code",
      "metadata": {
        "colab": {
          "base_uri": "https://localhost:8080/",
          "height": 223
        },
        "id": "acBcCStDIBVG",
        "outputId": "27418d0e-a6cf-48bd-818d-a1d83395dc8b"
      },
      "source": [
        "swaps = []\n",
        "for i in response['swaps']:\n",
        "  swaps.append([     \n",
        "                \n",
        "                \n",
        "                i['id'],                \n",
        "                i['pair']['token0']['id'],\n",
        "                i['pair']['token0']['symbol'],\n",
        "                i['amount0In'],i['amount0Out'],\n",
        "                i['pair']['token1']['id'],\n",
        "                i['pair']['token1']['symbol'],\n",
        "                i['amount1In'],i['amount1Out'], \n",
        "                i['amountUSD']              \n",
        "\n",
        "  ])\n",
        "\n",
        "df = pd.DataFrame(swaps)\n",
        "df.head()"
      ],
      "execution_count": 5,
      "outputs": [
        {
          "output_type": "execute_result",
          "data": {
            "text/html": [
              "<div>\n",
              "<style scoped>\n",
              "    .dataframe tbody tr th:only-of-type {\n",
              "        vertical-align: middle;\n",
              "    }\n",
              "\n",
              "    .dataframe tbody tr th {\n",
              "        vertical-align: top;\n",
              "    }\n",
              "\n",
              "    .dataframe thead th {\n",
              "        text-align: right;\n",
              "    }\n",
              "</style>\n",
              "<table border=\"1\" class=\"dataframe\">\n",
              "  <thead>\n",
              "    <tr style=\"text-align: right;\">\n",
              "      <th></th>\n",
              "      <th>0</th>\n",
              "      <th>1</th>\n",
              "      <th>2</th>\n",
              "      <th>3</th>\n",
              "      <th>4</th>\n",
              "      <th>5</th>\n",
              "      <th>6</th>\n",
              "      <th>7</th>\n",
              "      <th>8</th>\n",
              "      <th>9</th>\n",
              "    </tr>\n",
              "  </thead>\n",
              "  <tbody>\n",
              "    <tr>\n",
              "      <th>0</th>\n",
              "      <td>0x18ec4f2d85b8d29b28f2ad8c050ad2684a085a37d98a...</td>\n",
              "      <td>0x1f9840a85d5af5bf1d1762f925bdaddc4201f984</td>\n",
              "      <td>UNI</td>\n",
              "      <td>0</td>\n",
              "      <td>1397</td>\n",
              "      <td>0xc02aaa39b223fe8d0a0e5c4f27ead9083c756cc2</td>\n",
              "      <td>WETH</td>\n",
              "      <td>12.067435923092517221</td>\n",
              "      <td>0</td>\n",
              "      <td>23014.06005380509173817479062058539</td>\n",
              "    </tr>\n",
              "    <tr>\n",
              "      <th>1</th>\n",
              "      <td>0xce80b9f77a759cdffbe4872a10ba256f922e694a41de...</td>\n",
              "      <td>0x1f9840a85d5af5bf1d1762f925bdaddc4201f984</td>\n",
              "      <td>UNI</td>\n",
              "      <td>0</td>\n",
              "      <td>1982.472761463805166045</td>\n",
              "      <td>0xc02aaa39b223fe8d0a0e5c4f27ead9083c756cc2</td>\n",
              "      <td>WETH</td>\n",
              "      <td>17.1</td>\n",
              "      <td>0</td>\n",
              "      <td>32522.95038956614636066725203472604</td>\n",
              "    </tr>\n",
              "    <tr>\n",
              "      <th>2</th>\n",
              "      <td>0xf8a5054e560d2edc8a7039677bf9b0400e9a2a6a6c2a...</td>\n",
              "      <td>0x1f9840a85d5af5bf1d1762f925bdaddc4201f984</td>\n",
              "      <td>UNI</td>\n",
              "      <td>0</td>\n",
              "      <td>847.34557370053464594</td>\n",
              "      <td>0xc02aaa39b223fe8d0a0e5c4f27ead9083c756cc2</td>\n",
              "      <td>WETH</td>\n",
              "      <td>7.3</td>\n",
              "      <td>0</td>\n",
              "      <td>13793.25649592138898222483072098164</td>\n",
              "    </tr>\n",
              "    <tr>\n",
              "      <th>3</th>\n",
              "      <td>0x5288ca4d96525cf073166b8dbb9a1d121af4ae0068be...</td>\n",
              "      <td>0x1f9840a85d5af5bf1d1762f925bdaddc4201f984</td>\n",
              "      <td>UNI</td>\n",
              "      <td>0</td>\n",
              "      <td>2663.224377753108021699</td>\n",
              "      <td>0xc02aaa39b223fe8d0a0e5c4f27ead9083c756cc2</td>\n",
              "      <td>WETH</td>\n",
              "      <td>22.89922288726461493</td>\n",
              "      <td>0</td>\n",
              "      <td>42890.60251760986106378738720855443</td>\n",
              "    </tr>\n",
              "    <tr>\n",
              "      <th>4</th>\n",
              "      <td>0x0b0b0ba769da19a7f264e82d50d38649819475011fc6...</td>\n",
              "      <td>0x1f9840a85d5af5bf1d1762f925bdaddc4201f984</td>\n",
              "      <td>UNI</td>\n",
              "      <td>0</td>\n",
              "      <td>526.445193464438634235</td>\n",
              "      <td>0xc02aaa39b223fe8d0a0e5c4f27ead9083c756cc2</td>\n",
              "      <td>WETH</td>\n",
              "      <td>4.532730423844692476</td>\n",
              "      <td>0</td>\n",
              "      <td>8489.87495714196513200090354858405</td>\n",
              "    </tr>\n",
              "  </tbody>\n",
              "</table>\n",
              "</div>"
            ],
            "text/plain": [
              "                                                   0  ...                                    9\n",
              "0  0x18ec4f2d85b8d29b28f2ad8c050ad2684a085a37d98a...  ...  23014.06005380509173817479062058539\n",
              "1  0xce80b9f77a759cdffbe4872a10ba256f922e694a41de...  ...  32522.95038956614636066725203472604\n",
              "2  0xf8a5054e560d2edc8a7039677bf9b0400e9a2a6a6c2a...  ...  13793.25649592138898222483072098164\n",
              "3  0x5288ca4d96525cf073166b8dbb9a1d121af4ae0068be...  ...  42890.60251760986106378738720855443\n",
              "4  0x0b0b0ba769da19a7f264e82d50d38649819475011fc6...  ...   8489.87495714196513200090354858405\n",
              "\n",
              "[5 rows x 10 columns]"
            ]
          },
          "metadata": {
            "tags": []
          },
          "execution_count": 5
        }
      ]
    },
    {
      "cell_type": "code",
      "metadata": {
        "colab": {
          "base_uri": "https://localhost:8080/",
          "height": 454
        },
        "id": "5o0GA1gcO5x7",
        "outputId": "f4bc49e7-1b1b-487e-c812-8f0d3301269c"
      },
      "source": [
        "df.columns = ['Transaction ID', 'Token1 Ethereum ID(UNI)', 'Token1', 'Quantity of token1 bought','Quantity of token1 sold','Token2 Ethereum ID(WETH)', 'Token2', 'Quantity of token2 bought','Quantity of token2 sold','Value of trade in USD']\n",
        "df"
      ],
      "execution_count": 6,
      "outputs": [
        {
          "output_type": "execute_result",
          "data": {
            "text/html": [
              "<div>\n",
              "<style scoped>\n",
              "    .dataframe tbody tr th:only-of-type {\n",
              "        vertical-align: middle;\n",
              "    }\n",
              "\n",
              "    .dataframe tbody tr th {\n",
              "        vertical-align: top;\n",
              "    }\n",
              "\n",
              "    .dataframe thead th {\n",
              "        text-align: right;\n",
              "    }\n",
              "</style>\n",
              "<table border=\"1\" class=\"dataframe\">\n",
              "  <thead>\n",
              "    <tr style=\"text-align: right;\">\n",
              "      <th></th>\n",
              "      <th>Transaction ID</th>\n",
              "      <th>Token1 Ethereum ID(UNI)</th>\n",
              "      <th>Token1</th>\n",
              "      <th>Quantity of token1 bought</th>\n",
              "      <th>Quantity of token1 sold</th>\n",
              "      <th>Token2 Ethereum ID(WETH)</th>\n",
              "      <th>Token2</th>\n",
              "      <th>Quantity of token2 bought</th>\n",
              "      <th>Quantity of token2 sold</th>\n",
              "      <th>Value of trade in USD</th>\n",
              "    </tr>\n",
              "  </thead>\n",
              "  <tbody>\n",
              "    <tr>\n",
              "      <th>0</th>\n",
              "      <td>0x18ec4f2d85b8d29b28f2ad8c050ad2684a085a37d98a...</td>\n",
              "      <td>0x1f9840a85d5af5bf1d1762f925bdaddc4201f984</td>\n",
              "      <td>UNI</td>\n",
              "      <td>0</td>\n",
              "      <td>1397</td>\n",
              "      <td>0xc02aaa39b223fe8d0a0e5c4f27ead9083c756cc2</td>\n",
              "      <td>WETH</td>\n",
              "      <td>12.067435923092517221</td>\n",
              "      <td>0</td>\n",
              "      <td>23014.06005380509173817479062058539</td>\n",
              "    </tr>\n",
              "    <tr>\n",
              "      <th>1</th>\n",
              "      <td>0xce80b9f77a759cdffbe4872a10ba256f922e694a41de...</td>\n",
              "      <td>0x1f9840a85d5af5bf1d1762f925bdaddc4201f984</td>\n",
              "      <td>UNI</td>\n",
              "      <td>0</td>\n",
              "      <td>1982.472761463805166045</td>\n",
              "      <td>0xc02aaa39b223fe8d0a0e5c4f27ead9083c756cc2</td>\n",
              "      <td>WETH</td>\n",
              "      <td>17.1</td>\n",
              "      <td>0</td>\n",
              "      <td>32522.95038956614636066725203472604</td>\n",
              "    </tr>\n",
              "    <tr>\n",
              "      <th>2</th>\n",
              "      <td>0xf8a5054e560d2edc8a7039677bf9b0400e9a2a6a6c2a...</td>\n",
              "      <td>0x1f9840a85d5af5bf1d1762f925bdaddc4201f984</td>\n",
              "      <td>UNI</td>\n",
              "      <td>0</td>\n",
              "      <td>847.34557370053464594</td>\n",
              "      <td>0xc02aaa39b223fe8d0a0e5c4f27ead9083c756cc2</td>\n",
              "      <td>WETH</td>\n",
              "      <td>7.3</td>\n",
              "      <td>0</td>\n",
              "      <td>13793.25649592138898222483072098164</td>\n",
              "    </tr>\n",
              "    <tr>\n",
              "      <th>3</th>\n",
              "      <td>0x5288ca4d96525cf073166b8dbb9a1d121af4ae0068be...</td>\n",
              "      <td>0x1f9840a85d5af5bf1d1762f925bdaddc4201f984</td>\n",
              "      <td>UNI</td>\n",
              "      <td>0</td>\n",
              "      <td>2663.224377753108021699</td>\n",
              "      <td>0xc02aaa39b223fe8d0a0e5c4f27ead9083c756cc2</td>\n",
              "      <td>WETH</td>\n",
              "      <td>22.89922288726461493</td>\n",
              "      <td>0</td>\n",
              "      <td>42890.60251760986106378738720855443</td>\n",
              "    </tr>\n",
              "    <tr>\n",
              "      <th>4</th>\n",
              "      <td>0x0b0b0ba769da19a7f264e82d50d38649819475011fc6...</td>\n",
              "      <td>0x1f9840a85d5af5bf1d1762f925bdaddc4201f984</td>\n",
              "      <td>UNI</td>\n",
              "      <td>0</td>\n",
              "      <td>526.445193464438634235</td>\n",
              "      <td>0xc02aaa39b223fe8d0a0e5c4f27ead9083c756cc2</td>\n",
              "      <td>WETH</td>\n",
              "      <td>4.532730423844692476</td>\n",
              "      <td>0</td>\n",
              "      <td>8489.87495714196513200090354858405</td>\n",
              "    </tr>\n",
              "    <tr>\n",
              "      <th>...</th>\n",
              "      <td>...</td>\n",
              "      <td>...</td>\n",
              "      <td>...</td>\n",
              "      <td>...</td>\n",
              "      <td>...</td>\n",
              "      <td>...</td>\n",
              "      <td>...</td>\n",
              "      <td>...</td>\n",
              "      <td>...</td>\n",
              "      <td>...</td>\n",
              "    </tr>\n",
              "    <tr>\n",
              "      <th>95</th>\n",
              "      <td>0x22ccfe5844d583de546c62312f4184587f41ced11412...</td>\n",
              "      <td>0x1f9840a85d5af5bf1d1762f925bdaddc4201f984</td>\n",
              "      <td>UNI</td>\n",
              "      <td>2348.91983416593598073</td>\n",
              "      <td>0</td>\n",
              "      <td>0xc02aaa39b223fe8d0a0e5c4f27ead9083c756cc2</td>\n",
              "      <td>WETH</td>\n",
              "      <td>0</td>\n",
              "      <td>18.394780708970127831</td>\n",
              "      <td>33263.96856947397270741079538145516</td>\n",
              "    </tr>\n",
              "    <tr>\n",
              "      <th>96</th>\n",
              "      <td>0x49a84ef99cd2a75016ed40d7d57722a676cb9674c934...</td>\n",
              "      <td>0x1f9840a85d5af5bf1d1762f925bdaddc4201f984</td>\n",
              "      <td>UNI</td>\n",
              "      <td>1483.661163840250454445</td>\n",
              "      <td>0</td>\n",
              "      <td>0xc02aaa39b223fe8d0a0e5c4f27ead9083c756cc2</td>\n",
              "      <td>WETH</td>\n",
              "      <td>0</td>\n",
              "      <td>11.636838419170630554</td>\n",
              "      <td>21121.14496473993803337282238252068</td>\n",
              "    </tr>\n",
              "    <tr>\n",
              "      <th>97</th>\n",
              "      <td>0x087e6df73887cfee526f847c70f48156332f93aafa7b...</td>\n",
              "      <td>0x1f9840a85d5af5bf1d1762f925bdaddc4201f984</td>\n",
              "      <td>UNI</td>\n",
              "      <td>0</td>\n",
              "      <td>4262.576915244889132617</td>\n",
              "      <td>0xc02aaa39b223fe8d0a0e5c4f27ead9083c756cc2</td>\n",
              "      <td>WETH</td>\n",
              "      <td>33.596177425081965316</td>\n",
              "      <td>0</td>\n",
              "      <td>61126.39347729849777625804049954299</td>\n",
              "    </tr>\n",
              "    <tr>\n",
              "      <th>98</th>\n",
              "      <td>0x98467031383012e33a394a6119f7c533568379e28451...</td>\n",
              "      <td>0x1f9840a85d5af5bf1d1762f925bdaddc4201f984</td>\n",
              "      <td>UNI</td>\n",
              "      <td>891.625122467674467624</td>\n",
              "      <td>0</td>\n",
              "      <td>0xc02aaa39b223fe8d0a0e5c4f27ead9083c756cc2</td>\n",
              "      <td>WETH</td>\n",
              "      <td>0</td>\n",
              "      <td>6.9758389560904925</td>\n",
              "      <td>12613.68157206121309820498458910397</td>\n",
              "    </tr>\n",
              "    <tr>\n",
              "      <th>99</th>\n",
              "      <td>0x13375a21807ddc0617cb0ca55a635168e9492c9be0b6...</td>\n",
              "      <td>0x1f9840a85d5af5bf1d1762f925bdaddc4201f984</td>\n",
              "      <td>UNI</td>\n",
              "      <td>1756.78869199718679318</td>\n",
              "      <td>0</td>\n",
              "      <td>0xc02aaa39b223fe8d0a0e5c4f27ead9083c756cc2</td>\n",
              "      <td>WETH</td>\n",
              "      <td>0</td>\n",
              "      <td>13.7594</td>\n",
              "      <td>24885.0816036620593780187679740357</td>\n",
              "    </tr>\n",
              "  </tbody>\n",
              "</table>\n",
              "<p>100 rows × 10 columns</p>\n",
              "</div>"
            ],
            "text/plain": [
              "                                       Transaction ID  ...                Value of trade in USD\n",
              "0   0x18ec4f2d85b8d29b28f2ad8c050ad2684a085a37d98a...  ...  23014.06005380509173817479062058539\n",
              "1   0xce80b9f77a759cdffbe4872a10ba256f922e694a41de...  ...  32522.95038956614636066725203472604\n",
              "2   0xf8a5054e560d2edc8a7039677bf9b0400e9a2a6a6c2a...  ...  13793.25649592138898222483072098164\n",
              "3   0x5288ca4d96525cf073166b8dbb9a1d121af4ae0068be...  ...  42890.60251760986106378738720855443\n",
              "4   0x0b0b0ba769da19a7f264e82d50d38649819475011fc6...  ...   8489.87495714196513200090354858405\n",
              "..                                                ...  ...                                  ...\n",
              "95  0x22ccfe5844d583de546c62312f4184587f41ced11412...  ...  33263.96856947397270741079538145516\n",
              "96  0x49a84ef99cd2a75016ed40d7d57722a676cb9674c934...  ...  21121.14496473993803337282238252068\n",
              "97  0x087e6df73887cfee526f847c70f48156332f93aafa7b...  ...  61126.39347729849777625804049954299\n",
              "98  0x98467031383012e33a394a6119f7c533568379e28451...  ...  12613.68157206121309820498458910397\n",
              "99  0x13375a21807ddc0617cb0ca55a635168e9492c9be0b6...  ...   24885.0816036620593780187679740357\n",
              "\n",
              "[100 rows x 10 columns]"
            ]
          },
          "metadata": {
            "tags": []
          },
          "execution_count": 6
        }
      ]
    },
    {
      "cell_type": "code",
      "metadata": {
        "id": "jeHYstGOQFE9"
      },
      "source": [
        "import matplotlib.pyplot as plt"
      ],
      "execution_count": 7,
      "outputs": []
    },
    {
      "cell_type": "code",
      "metadata": {
        "colab": {
          "base_uri": "https://localhost:8080/"
        },
        "id": "uJP5eurEUrl9",
        "outputId": "54e7f220-9d80-4273-a0ac-47fbc590569e"
      },
      "source": [
        "df.dtypes"
      ],
      "execution_count": 8,
      "outputs": [
        {
          "output_type": "execute_result",
          "data": {
            "text/plain": [
              "Transaction ID               object\n",
              "Token1 Ethereum ID(UNI)      object\n",
              "Token1                       object\n",
              "Quantity of token1 bought    object\n",
              "Quantity of token1 sold      object\n",
              "Token2 Ethereum ID(WETH)     object\n",
              "Token2                       object\n",
              "Quantity of token2 bought    object\n",
              "Quantity of token2 sold      object\n",
              "Value of trade in USD        object\n",
              "dtype: object"
            ]
          },
          "metadata": {
            "tags": []
          },
          "execution_count": 8
        }
      ]
    },
    {
      "cell_type": "code",
      "metadata": {
        "id": "Y-fnf80pVrAn"
      },
      "source": [
        "df['Quantity of token1 bought'] = df['Quantity of token1 bought'].astype(float)\n",
        "df['Quantity of token2 bought'] = df['Quantity of token2 bought'].astype(float)\n",
        "df['Quantity of token1 sold'] = df['Quantity of token1 sold'].astype(float)\n",
        "df['Quantity of token2 sold'] = df['Quantity of token2 sold'].astype(float)\n",
        "x1 = df['Quantity of token1 bought']\n",
        "x2 = df['Quantity of token1 sold']\n",
        "x3 = df['Quantity of token2 bought']\n",
        "x4 = df['Quantity of token2 sold']"
      ],
      "execution_count": 9,
      "outputs": []
    },
    {
      "cell_type": "code",
      "metadata": {
        "colab": {
          "base_uri": "https://localhost:8080/",
          "height": 926
        },
        "id": "GeprpcBYRA0p",
        "outputId": "2d6d13b7-8e72-42b1-aab0-3cad7cec56c2"
      },
      "source": [
        "plt.figure(figsize=(15, 15))\n",
        "display(plt.scatter(x1, x4, label = \"UNI is bought\"))\n",
        "# naming the x axis\n",
        "plt.xlabel('UNI')\n",
        "# naming the y axis\n",
        "plt.ylabel('WETH')\n",
        "# title of the graph\n",
        "plt.title('Scatterplot of trades when UNI is BOUGHT')\n"
      ],
      "execution_count": 10,
      "outputs": [
        {
          "output_type": "display_data",
          "data": {
            "text/plain": [
              "<matplotlib.collections.PathCollection at 0x7fa334d1f5d0>"
            ]
          },
          "metadata": {
            "tags": []
          }
        },
        {
          "output_type": "execute_result",
          "data": {
            "text/plain": [
              "Text(0.5, 1.0, 'Scatterplot of trades')"
            ]
          },
          "metadata": {
            "tags": []
          },
          "execution_count": 10
        },
        {
          "output_type": "display_data",
          "data": {
            "image/png": "[encoded data removed]",
            "text/plain": [
              "<Figure size 1080x1080 with 1 Axes>"
            ]
          },
          "metadata": {
            "tags": [],
            "needs_background": "light"
          }
        }
      ]
    },
    {
      "cell_type": "code",
      "metadata": {
        "colab": {
          "base_uri": "https://localhost:8080/",
          "height": 910
        },
        "id": "d11Z8CEUebqm",
        "outputId": "8db11acd-1977-423e-f078-b4a264293c3c"
      },
      "source": [
        "plt.figure(figsize=(15, 15))\n",
        "display(plt.scatter(x2, x3, label = \"UNI is sold\"))\n",
        "# naming the x axis\n",
        "plt.xlabel('UNI')\n",
        "# naming the y axis\n",
        "plt.ylabel('WETH')\n",
        "# title of the graph\n",
        "plt.title('Scatterplot of trades when UNI is SOLD')\n",
        "plt.show()"
      ],
      "execution_count": 11,
      "outputs": [
        {
          "output_type": "display_data",
          "data": {
            "text/plain": [
              "<matplotlib.collections.PathCollection at 0x7fa334813050>"
            ]
          },
          "metadata": {
            "tags": []
          }
        },
        {
          "output_type": "display_data",
          "data": {
            "image/png": "[encoded data removed]",
            "text/plain": [
              "<Figure size 1080x1080 with 1 Axes>"
            ]
          },
          "metadata": {
            "tags": [],
            "needs_background": "light"
          }
        }
      ]
    },
    {
      "cell_type": "code",
      "metadata": {
        "id": "djFc5-C0dyU0"
      },
      "source": [
        ""
      ],
      "execution_count": 11,
      "outputs": []
    }
  ]
}