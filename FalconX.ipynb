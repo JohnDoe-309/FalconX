{
  "nbformat": 4,
  "nbformat_minor": 0,
  "metadata": {
    "colab": {
      "name": "FalconX.ipynb",
      "provenance": [],
      "authorship_tag": "ABX9TyODTFlNfufOZVkKgaSARYMG",
      "include_colab_link": true
    },
    "kernelspec": {
      "name": "python3",
      "display_name": "Python 3"
    },
    "language_info": {
      "name": "python"
    }
  },
  "cells": [
    {
      "cell_type": "markdown",
      "metadata": {
        "id": "view-in-github",
        "colab_type": "text"
      },
      "source": [
        "<a href=\"https://colab.research.google.com/github/JohnDoe-309/FalconX/blob/main/FalconX.ipynb\" target=\"_parent\"><img src=\"https://colab.research.google.com/assets/colab-badge.svg\" alt=\"Open In Colab\"/></a>"
      ]
    },
    {
      "cell_type": "code",
      "metadata": {
        "colab": {
          "base_uri": "https://localhost:8080/"
        },
        "id": "YV32zCow2S5P",
        "outputId": "bec707e7-b75d-4eea-87af-35f6e97f4353"
      },
      "source": [
        "!pip install plotly\n",
        "!pip install pandas\n",
        "!pip install gql"
      ],
      "execution_count": null,
      "outputs": [
        {
          "output_type": "stream",
          "text": [
            "Requirement already satisfied: plotly in /usr/local/lib/python3.7/dist-packages (4.4.1)\n",
            "Requirement already satisfied: six in /usr/local/lib/python3.7/dist-packages (from plotly) (1.16.0)\n",
            "Requirement already satisfied: retrying>=1.3.3 in /usr/local/lib/python3.7/dist-packages (from plotly) (1.3.3)\n",
            "Requirement already satisfied: pandas in /usr/local/lib/python3.7/dist-packages (1.1.5)\n",
            "Requirement already satisfied: numpy>=1.15.4 in /usr/local/lib/python3.7/dist-packages (from pandas) (1.19.5)\n",
            "Requirement already satisfied: python-dateutil>=2.7.3 in /usr/local/lib/python3.7/dist-packages (from pandas) (2.8.1)\n",
            "Requirement already satisfied: pytz>=2017.2 in /usr/local/lib/python3.7/dist-packages (from pandas) (2018.9)\n",
            "Requirement already satisfied: six>=1.5 in /usr/local/lib/python3.7/dist-packages (from python-dateutil>=2.7.3->pandas) (1.16.0)\n",
            "Requirement already satisfied: gql in /usr/local/lib/python3.7/dist-packages (2.0.0)\n",
            "Requirement already satisfied: promise<3,>=2.3 in /usr/local/lib/python3.7/dist-packages (from gql) (2.3)\n",
            "Requirement already satisfied: graphql-core<3,>=2.3.2 in /usr/local/lib/python3.7/dist-packages (from gql) (2.3.2)\n",
            "Requirement already satisfied: six>=1.10.0 in /usr/local/lib/python3.7/dist-packages (from gql) (1.16.0)\n",
            "Requirement already satisfied: requests<3,>=2.12 in /usr/local/lib/python3.7/dist-packages (from gql) (2.23.0)\n",
            "Requirement already satisfied: rx<2,>=1.6 in /usr/local/lib/python3.7/dist-packages (from graphql-core<3,>=2.3.2->gql) (1.6.1)\n",
            "Requirement already satisfied: certifi>=2017.4.17 in /usr/local/lib/python3.7/dist-packages (from requests<3,>=2.12->gql) (2021.5.30)\n",
            "Requirement already satisfied: idna<3,>=2.5 in /usr/local/lib/python3.7/dist-packages (from requests<3,>=2.12->gql) (2.10)\n",
            "Requirement already satisfied: urllib3!=1.25.0,!=1.25.1,<1.26,>=1.21.1 in /usr/local/lib/python3.7/dist-packages (from requests<3,>=2.12->gql) (1.24.3)\n",
            "Requirement already satisfied: chardet<4,>=3.0.2 in /usr/local/lib/python3.7/dist-packages (from requests<3,>=2.12->gql) (3.0.4)\n"
          ],
          "name": "stdout"
        }
      ]
    },
    {
      "cell_type": "code",
      "metadata": {
        "id": "d4Bz4srA29I6"
      },
      "source": [
        "import pandas as pd\n",
        "import plotly.express as px\n",
        "from gql import gql, Client\n",
        "from gql.transport.requests import RequestsHTTPTransport"
      ],
      "execution_count": null,
      "outputs": []
    },
    {
      "cell_type": "code",
      "metadata": {
        "id": "nfldlcSPGRaX"
      },
      "source": [
        "#for finding the paid id for UNI/WETH, since UNI/WETH has high transaction count\n",
        "'''\n",
        "{\n",
        "  pairs(first:100 orderBy:txCount orderDirection:desc) {\n",
        "    id\n",
        "    token0 {\n",
        "      name\n",
        "      symbol\n",
        "    }\n",
        "    token1 {\n",
        "      name\n",
        "      symbol      \n",
        "    }\n",
        "  }\n",
        "}\n",
        "'''\n"
      ],
      "execution_count": null,
      "outputs": []
    },
    {
      "cell_type": "code",
      "metadata": {
        "id": "H2Yqax1B35mV"
      },
      "source": [
        "sample_transport = RequestsHTTPTransport(\n",
        "    url = \"https://api.thegraph.com/subgraphs/name/uniswap/uniswap-v2\",\n",
        "    verify = True,\n",
        "    retries = 3,\n",
        ")\n",
        "\n",
        "client = Client(\n",
        "    transport = sample_transport)\n",
        "#pair id for UNI/WETH is: 0xd3d2e2692501a5c9ca623199d38826e513033a17\n",
        "\n",
        "query = gql('''\n",
        "query{\n",
        "  swaps(orderBy: timestamp, orderDirection: desc, where:{pair: \"0xd3d2e2692501a5c9ca623199d38826e513033a17\"}) {\n",
        "    amount0In\n",
        "    amount1In\n",
        "    amount0Out\n",
        "    amount1Out\n",
        "    id\n",
        "    amountUSD\n",
        "    pair {\n",
        "      token0 {\n",
        "        id\n",
        "        symbol\n",
        "      }\n",
        "      token1 {\n",
        "        id\n",
        "        symbol\n",
        "      }\n",
        "    }\n",
        "  }\n",
        "}\n",
        "''')\n",
        "\n",
        "response = client.execute(query)\n"
      ],
      "execution_count": null,
      "outputs": []
    },
    {
      "cell_type": "code",
      "metadata": {
        "colab": {
          "base_uri": "https://localhost:8080/",
          "height": 223
        },
        "id": "acBcCStDIBVG",
        "outputId": "581c98b5-bd04-4296-f8b5-9dc53c98ab4f"
      },
      "source": [
        "swaps = []\n",
        "for i in response['swaps']:\n",
        "  swaps.append([     \n",
        "                \n",
        "                \n",
        "                i['id'],                \n",
        "                i['pair']['token0']['id'],\n",
        "                i['pair']['token0']['symbol'],\n",
        "                i['amount0In'],i['amount0Out'],\n",
        "                i['pair']['token1']['id'],\n",
        "                i['pair']['token1']['symbol'],\n",
        "                i['amount1In'],i['amount1Out'], \n",
        "                i['amountUSD']              \n",
        "\n",
        "  ])\n",
        "\n",
        "df = pd.DataFrame(swaps)\n",
        "df.head()"
      ],
      "execution_count": null,
      "outputs": [
        {
          "output_type": "execute_result",
          "data": {
            "text/html": [
              "<div>\n",
              "<style scoped>\n",
              "    .dataframe tbody tr th:only-of-type {\n",
              "        vertical-align: middle;\n",
              "    }\n",
              "\n",
              "    .dataframe tbody tr th {\n",
              "        vertical-align: top;\n",
              "    }\n",
              "\n",
              "    .dataframe thead th {\n",
              "        text-align: right;\n",
              "    }\n",
              "</style>\n",
              "<table border=\"1\" class=\"dataframe\">\n",
              "  <thead>\n",
              "    <tr style=\"text-align: right;\">\n",
              "      <th></th>\n",
              "      <th>0</th>\n",
              "      <th>1</th>\n",
              "      <th>2</th>\n",
              "      <th>3</th>\n",
              "      <th>4</th>\n",
              "      <th>5</th>\n",
              "      <th>6</th>\n",
              "      <th>7</th>\n",
              "      <th>8</th>\n",
              "      <th>9</th>\n",
              "    </tr>\n",
              "  </thead>\n",
              "  <tbody>\n",
              "    <tr>\n",
              "      <th>0</th>\n",
              "      <td>0xce5b9035c10e17695e9f5f93bd615fd246d83e1d536e...</td>\n",
              "      <td>0x1f9840a85d5af5bf1d1762f925bdaddc4201f984</td>\n",
              "      <td>UNI</td>\n",
              "      <td>65.492630527564215151</td>\n",
              "      <td>0</td>\n",
              "      <td>0xc02aaa39b223fe8d0a0e5c4f27ead9083c756cc2</td>\n",
              "      <td>WETH</td>\n",
              "      <td>0</td>\n",
              "      <td>0.553656907833135407</td>\n",
              "      <td>1038.391318909376490834400939248353</td>\n",
              "    </tr>\n",
              "    <tr>\n",
              "      <th>1</th>\n",
              "      <td>0x11dc9990ce1014e433d0bb9a7c6d2de7155c0f09f59e...</td>\n",
              "      <td>0x1f9840a85d5af5bf1d1762f925bdaddc4201f984</td>\n",
              "      <td>UNI</td>\n",
              "      <td>150</td>\n",
              "      <td>0</td>\n",
              "      <td>0xc02aaa39b223fe8d0a0e5c4f27ead9083c756cc2</td>\n",
              "      <td>WETH</td>\n",
              "      <td>0</td>\n",
              "      <td>1.268175411419874485</td>\n",
              "      <td>2369.368897317798953341098735652424</td>\n",
              "    </tr>\n",
              "    <tr>\n",
              "      <th>2</th>\n",
              "      <td>0x21d8e5447ef80e0c43087ffb629cdcbd424d4d84e028...</td>\n",
              "      <td>0x1f9840a85d5af5bf1d1762f925bdaddc4201f984</td>\n",
              "      <td>UNI</td>\n",
              "      <td>0</td>\n",
              "      <td>1541.102197718176057238</td>\n",
              "      <td>0xc02aaa39b223fe8d0a0e5c4f27ead9083c756cc2</td>\n",
              "      <td>WETH</td>\n",
              "      <td>13.1</td>\n",
              "      <td>0</td>\n",
              "      <td>24476.16711322774735619167693493299</td>\n",
              "    </tr>\n",
              "    <tr>\n",
              "      <th>3</th>\n",
              "      <td>0x82a461ce0749ad1f72e95bc5fd8cab014d0d09545500...</td>\n",
              "      <td>0x1f9840a85d5af5bf1d1762f925bdaddc4201f984</td>\n",
              "      <td>UNI</td>\n",
              "      <td>0</td>\n",
              "      <td>3176.212297639209785199</td>\n",
              "      <td>0xc02aaa39b223fe8d0a0e5c4f27ead9083c756cc2</td>\n",
              "      <td>WETH</td>\n",
              "      <td>26.944914994473615649</td>\n",
              "      <td>0</td>\n",
              "      <td>49384.48199010947845104759764618398</td>\n",
              "    </tr>\n",
              "    <tr>\n",
              "      <th>4</th>\n",
              "      <td>0xf9ef2a354376637524cfd2c4508ca4a49062c9b10752...</td>\n",
              "      <td>0x1f9840a85d5af5bf1d1762f925bdaddc4201f984</td>\n",
              "      <td>UNI</td>\n",
              "      <td>0</td>\n",
              "      <td>4404.858470083711794143</td>\n",
              "      <td>0xc02aaa39b223fe8d0a0e5c4f27ead9083c756cc2</td>\n",
              "      <td>WETH</td>\n",
              "      <td>37.196786566433646054</td>\n",
              "      <td>0</td>\n",
              "      <td>68084.05096290438498933264371782091</td>\n",
              "    </tr>\n",
              "  </tbody>\n",
              "</table>\n",
              "</div>"
            ],
            "text/plain": [
              "                                                   0  ...                                    9\n",
              "0  0xce5b9035c10e17695e9f5f93bd615fd246d83e1d536e...  ...  1038.391318909376490834400939248353\n",
              "1  0x11dc9990ce1014e433d0bb9a7c6d2de7155c0f09f59e...  ...  2369.368897317798953341098735652424\n",
              "2  0x21d8e5447ef80e0c43087ffb629cdcbd424d4d84e028...  ...  24476.16711322774735619167693493299\n",
              "3  0x82a461ce0749ad1f72e95bc5fd8cab014d0d09545500...  ...  49384.48199010947845104759764618398\n",
              "4  0xf9ef2a354376637524cfd2c4508ca4a49062c9b10752...  ...  68084.05096290438498933264371782091\n",
              "\n",
              "[5 rows x 10 columns]"
            ]
          },
          "metadata": {
            "tags": []
          },
          "execution_count": 51
        }
      ]
    },
    {
      "cell_type": "code",
      "metadata": {
        "id": "5o0GA1gcO5x7",
        "colab": {
          "base_uri": "https://localhost:8080/",
          "height": 454
        },
        "outputId": "675159c5-10ef-4d10-8e0d-e811b238c789"
      },
      "source": [
        "df.columns = ['Transaction ID', 'Token1 Ethereum ID(UNI)', 'Token1', 'Quantity of token1 bought','Quantity of token1 sold','Token2 Ethereum ID(WETH)', 'Token2', 'Quantity of token2 bought','Quantity of token2 sold','Value of trade in USD']\n",
        "df"
      ],
      "execution_count": null,
      "outputs": [
        {
          "output_type": "execute_result",
          "data": {
            "text/html": [
              "<div>\n",
              "<style scoped>\n",
              "    .dataframe tbody tr th:only-of-type {\n",
              "        vertical-align: middle;\n",
              "    }\n",
              "\n",
              "    .dataframe tbody tr th {\n",
              "        vertical-align: top;\n",
              "    }\n",
              "\n",
              "    .dataframe thead th {\n",
              "        text-align: right;\n",
              "    }\n",
              "</style>\n",
              "<table border=\"1\" class=\"dataframe\">\n",
              "  <thead>\n",
              "    <tr style=\"text-align: right;\">\n",
              "      <th></th>\n",
              "      <th>Transaction ID</th>\n",
              "      <th>Token1 Ethereum ID(UNI)</th>\n",
              "      <th>Token1</th>\n",
              "      <th>Quantity of token1 bought</th>\n",
              "      <th>Quantity of token1 sold</th>\n",
              "      <th>Token2 Ethereum ID(WETH)</th>\n",
              "      <th>Token2</th>\n",
              "      <th>Quantity of token2 bought</th>\n",
              "      <th>Quantity of token2 sold</th>\n",
              "      <th>Value of trade in USD</th>\n",
              "    </tr>\n",
              "  </thead>\n",
              "  <tbody>\n",
              "    <tr>\n",
              "      <th>0</th>\n",
              "      <td>0xce5b9035c10e17695e9f5f93bd615fd246d83e1d536e...</td>\n",
              "      <td>0x1f9840a85d5af5bf1d1762f925bdaddc4201f984</td>\n",
              "      <td>UNI</td>\n",
              "      <td>65.492630527564215151</td>\n",
              "      <td>0</td>\n",
              "      <td>0xc02aaa39b223fe8d0a0e5c4f27ead9083c756cc2</td>\n",
              "      <td>WETH</td>\n",
              "      <td>0</td>\n",
              "      <td>0.553656907833135407</td>\n",
              "      <td>1038.391318909376490834400939248353</td>\n",
              "    </tr>\n",
              "    <tr>\n",
              "      <th>1</th>\n",
              "      <td>0x11dc9990ce1014e433d0bb9a7c6d2de7155c0f09f59e...</td>\n",
              "      <td>0x1f9840a85d5af5bf1d1762f925bdaddc4201f984</td>\n",
              "      <td>UNI</td>\n",
              "      <td>150</td>\n",
              "      <td>0</td>\n",
              "      <td>0xc02aaa39b223fe8d0a0e5c4f27ead9083c756cc2</td>\n",
              "      <td>WETH</td>\n",
              "      <td>0</td>\n",
              "      <td>1.268175411419874485</td>\n",
              "      <td>2369.368897317798953341098735652424</td>\n",
              "    </tr>\n",
              "    <tr>\n",
              "      <th>2</th>\n",
              "      <td>0x21d8e5447ef80e0c43087ffb629cdcbd424d4d84e028...</td>\n",
              "      <td>0x1f9840a85d5af5bf1d1762f925bdaddc4201f984</td>\n",
              "      <td>UNI</td>\n",
              "      <td>0</td>\n",
              "      <td>1541.102197718176057238</td>\n",
              "      <td>0xc02aaa39b223fe8d0a0e5c4f27ead9083c756cc2</td>\n",
              "      <td>WETH</td>\n",
              "      <td>13.1</td>\n",
              "      <td>0</td>\n",
              "      <td>24476.16711322774735619167693493299</td>\n",
              "    </tr>\n",
              "    <tr>\n",
              "      <th>3</th>\n",
              "      <td>0x82a461ce0749ad1f72e95bc5fd8cab014d0d09545500...</td>\n",
              "      <td>0x1f9840a85d5af5bf1d1762f925bdaddc4201f984</td>\n",
              "      <td>UNI</td>\n",
              "      <td>0</td>\n",
              "      <td>3176.212297639209785199</td>\n",
              "      <td>0xc02aaa39b223fe8d0a0e5c4f27ead9083c756cc2</td>\n",
              "      <td>WETH</td>\n",
              "      <td>26.944914994473615649</td>\n",
              "      <td>0</td>\n",
              "      <td>49384.48199010947845104759764618398</td>\n",
              "    </tr>\n",
              "    <tr>\n",
              "      <th>4</th>\n",
              "      <td>0xf9ef2a354376637524cfd2c4508ca4a49062c9b10752...</td>\n",
              "      <td>0x1f9840a85d5af5bf1d1762f925bdaddc4201f984</td>\n",
              "      <td>UNI</td>\n",
              "      <td>0</td>\n",
              "      <td>4404.858470083711794143</td>\n",
              "      <td>0xc02aaa39b223fe8d0a0e5c4f27ead9083c756cc2</td>\n",
              "      <td>WETH</td>\n",
              "      <td>37.196786566433646054</td>\n",
              "      <td>0</td>\n",
              "      <td>68084.05096290438498933264371782091</td>\n",
              "    </tr>\n",
              "    <tr>\n",
              "      <th>...</th>\n",
              "      <td>...</td>\n",
              "      <td>...</td>\n",
              "      <td>...</td>\n",
              "      <td>...</td>\n",
              "      <td>...</td>\n",
              "      <td>...</td>\n",
              "      <td>...</td>\n",
              "      <td>...</td>\n",
              "      <td>...</td>\n",
              "      <td>...</td>\n",
              "    </tr>\n",
              "    <tr>\n",
              "      <th>95</th>\n",
              "      <td>0xba23317d9c01bbcce7ebe4ea93fc88213eb883ce4553...</td>\n",
              "      <td>0x1f9840a85d5af5bf1d1762f925bdaddc4201f984</td>\n",
              "      <td>UNI</td>\n",
              "      <td>0</td>\n",
              "      <td>794.654083219807078638</td>\n",
              "      <td>0xc02aaa39b223fe8d0a0e5c4f27ead9083c756cc2</td>\n",
              "      <td>WETH</td>\n",
              "      <td>6.312643252622296691</td>\n",
              "      <td>0</td>\n",
              "      <td>11579.93019138164074025432785902321</td>\n",
              "    </tr>\n",
              "    <tr>\n",
              "      <th>96</th>\n",
              "      <td>0xdc9cc901a4723e9a479ed7816e9a15738c49683f6e54...</td>\n",
              "      <td>0x1f9840a85d5af5bf1d1762f925bdaddc4201f984</td>\n",
              "      <td>UNI</td>\n",
              "      <td>0</td>\n",
              "      <td>2919.395767120222920514</td>\n",
              "      <td>0xc02aaa39b223fe8d0a0e5c4f27ead9083c756cc2</td>\n",
              "      <td>WETH</td>\n",
              "      <td>23.15625</td>\n",
              "      <td>0</td>\n",
              "      <td>42241.68994489148581702393521591685</td>\n",
              "    </tr>\n",
              "    <tr>\n",
              "      <th>97</th>\n",
              "      <td>0xba7e1f46c0ef25a0722007dad390e91235ebc2c56d6b...</td>\n",
              "      <td>0x1f9840a85d5af5bf1d1762f925bdaddc4201f984</td>\n",
              "      <td>UNI</td>\n",
              "      <td>11382.412796328586535819</td>\n",
              "      <td>0</td>\n",
              "      <td>0xc02aaa39b223fe8d0a0e5c4f27ead9083c756cc2</td>\n",
              "      <td>WETH</td>\n",
              "      <td>0</td>\n",
              "      <td>90.053098000238099491</td>\n",
              "      <td>164501.7804117064140326478228525828</td>\n",
              "    </tr>\n",
              "    <tr>\n",
              "      <th>98</th>\n",
              "      <td>0x4c976ef09375589858dcd67d3d811beeafee01a794e3...</td>\n",
              "      <td>0x1f9840a85d5af5bf1d1762f925bdaddc4201f984</td>\n",
              "      <td>UNI</td>\n",
              "      <td>1367.38897885956556098</td>\n",
              "      <td>0</td>\n",
              "      <td>0xc02aaa39b223fe8d0a0e5c4f27ead9083c756cc2</td>\n",
              "      <td>WETH</td>\n",
              "      <td>0</td>\n",
              "      <td>10.87445699914108238</td>\n",
              "      <td>19864.9484677130772107444935417977</td>\n",
              "    </tr>\n",
              "    <tr>\n",
              "      <th>99</th>\n",
              "      <td>0x554fa1df1df3b986ffd63e50cb791f9d1583a3295d9e...</td>\n",
              "      <td>0x1f9840a85d5af5bf1d1762f925bdaddc4201f984</td>\n",
              "      <td>UNI</td>\n",
              "      <td>0</td>\n",
              "      <td>140.36416915436972217</td>\n",
              "      <td>0xc02aaa39b223fe8d0a0e5c4f27ead9083c756cc2</td>\n",
              "      <td>WETH</td>\n",
              "      <td>1.123565445876257723</td>\n",
              "      <td>0</td>\n",
              "      <td>2055.636083138236612401816387987885</td>\n",
              "    </tr>\n",
              "  </tbody>\n",
              "</table>\n",
              "<p>100 rows × 10 columns</p>\n",
              "</div>"
            ],
            "text/plain": [
              "                                       Transaction ID  ...                Value of trade in USD\n",
              "0   0xce5b9035c10e17695e9f5f93bd615fd246d83e1d536e...  ...  1038.391318909376490834400939248353\n",
              "1   0x11dc9990ce1014e433d0bb9a7c6d2de7155c0f09f59e...  ...  2369.368897317798953341098735652424\n",
              "2   0x21d8e5447ef80e0c43087ffb629cdcbd424d4d84e028...  ...  24476.16711322774735619167693493299\n",
              "3   0x82a461ce0749ad1f72e95bc5fd8cab014d0d09545500...  ...  49384.48199010947845104759764618398\n",
              "4   0xf9ef2a354376637524cfd2c4508ca4a49062c9b10752...  ...  68084.05096290438498933264371782091\n",
              "..                                                ...  ...                                  ...\n",
              "95  0xba23317d9c01bbcce7ebe4ea93fc88213eb883ce4553...  ...  11579.93019138164074025432785902321\n",
              "96  0xdc9cc901a4723e9a479ed7816e9a15738c49683f6e54...  ...  42241.68994489148581702393521591685\n",
              "97  0xba7e1f46c0ef25a0722007dad390e91235ebc2c56d6b...  ...  164501.7804117064140326478228525828\n",
              "98  0x4c976ef09375589858dcd67d3d811beeafee01a794e3...  ...   19864.9484677130772107444935417977\n",
              "99  0x554fa1df1df3b986ffd63e50cb791f9d1583a3295d9e...  ...  2055.636083138236612401816387987885\n",
              "\n",
              "[100 rows x 10 columns]"
            ]
          },
          "metadata": {
            "tags": []
          },
          "execution_count": 52
        }
      ]
    },
    {
      "cell_type": "code",
      "metadata": {
        "id": "jeHYstGOQFE9"
      },
      "source": [
        "import matplotlib.pyplot as plt"
      ],
      "execution_count": null,
      "outputs": []
    },
    {
      "cell_type": "code",
      "metadata": {
        "colab": {
          "base_uri": "https://localhost:8080/"
        },
        "id": "uJP5eurEUrl9",
        "outputId": "cae08911-109d-4c79-9589-6bf01628c8a5"
      },
      "source": [
        "df.dtypes"
      ],
      "execution_count": null,
      "outputs": [
        {
          "output_type": "execute_result",
          "data": {
            "text/plain": [
              "Transaction ID               object\n",
              "Token1 Ethereum ID(UNI)      object\n",
              "Token1                       object\n",
              "Quantity of token1 bought    object\n",
              "Quantity of token1 sold      object\n",
              "Token2 Ethereum ID(WETH)     object\n",
              "Token2                       object\n",
              "Quantity of token2 bought    object\n",
              "Quantity of token2 sold      object\n",
              "Value of trade in USD        object\n",
              "dtype: object"
            ]
          },
          "metadata": {
            "tags": []
          },
          "execution_count": 54
        }
      ]
    },
    {
      "cell_type": "code",
      "metadata": {
        "id": "Y-fnf80pVrAn"
      },
      "source": [
        "df['Quantity of token1 bought'] = df['Quantity of token1 sold'].astype(float)\n",
        "df['Quantity of token2 bought'] = df['Quantity of token2 sold'].astype(float)\n",
        "df['Quantity of token1 sold'] = df['Quantity of token1 bought'].astype(float)\n",
        "df['Quantity of token2 sold'] = df['Quantity of token2 bought'].astype(float)"
      ],
      "execution_count": null,
      "outputs": []
    },
    {
      "cell_type": "code",
      "metadata": {
        "id": "UKn-_bXOSfXj",
        "colab": {
          "base_uri": "https://localhost:8080/",
          "height": 622
        },
        "outputId": "f022fe49-ca40-47d4-ec18-6c89d978bc56"
      },
      "source": [
        "for i in range(100):\n",
        "  if df[3][i] > 0:\n",
        "    print(df[8][i]+\" \"+df[3][i])\n",
        "    #x2[i] = df['Quantity of token2 sold'][i]/df['Quantity of token1 bought'][i]\n",
        "    #x1[i] = 0\n",
        "  elif df['Quantity of token2 bought'][i] > 0:\n",
        "    print(df[4][i] + \" \" + df[7][i])\n",
        "    #x1[i] = df['Quantity of token2 bought'][i]/df['Quantity of token1 sold'][i]\n",
        "    #x2[i] = 0\n",
        "  y = i+1"
      ],
      "execution_count": 68,
      "outputs": [
        {
          "output_type": "error",
          "ename": "KeyError",
          "evalue": "ignored",
          "traceback": [
            "\u001b[0;31m---------------------------------------------------------------------------\u001b[0m",
            "\u001b[0;31mKeyError\u001b[0m                                  Traceback (most recent call last)",
            "\u001b[0;32m/usr/local/lib/python3.7/dist-packages/pandas/core/indexes/base.py\u001b[0m in \u001b[0;36mget_loc\u001b[0;34m(self, key, method, tolerance)\u001b[0m\n\u001b[1;32m   2897\u001b[0m             \u001b[0;32mtry\u001b[0m\u001b[0;34m:\u001b[0m\u001b[0;34m\u001b[0m\u001b[0;34m\u001b[0m\u001b[0m\n\u001b[0;32m-> 2898\u001b[0;31m                 \u001b[0;32mreturn\u001b[0m \u001b[0mself\u001b[0m\u001b[0;34m.\u001b[0m\u001b[0m_engine\u001b[0m\u001b[0;34m.\u001b[0m\u001b[0mget_loc\u001b[0m\u001b[0;34m(\u001b[0m\u001b[0mcasted_key\u001b[0m\u001b[0;34m)\u001b[0m\u001b[0;34m\u001b[0m\u001b[0;34m\u001b[0m\u001b[0m\n\u001b[0m\u001b[1;32m   2899\u001b[0m             \u001b[0;32mexcept\u001b[0m \u001b[0mKeyError\u001b[0m \u001b[0;32mas\u001b[0m \u001b[0merr\u001b[0m\u001b[0;34m:\u001b[0m\u001b[0;34m\u001b[0m\u001b[0;34m\u001b[0m\u001b[0m\n",
            "\u001b[0;32mpandas/_libs/index.pyx\u001b[0m in \u001b[0;36mpandas._libs.index.IndexEngine.get_loc\u001b[0;34m()\u001b[0m\n",
            "\u001b[0;32mpandas/_libs/index.pyx\u001b[0m in \u001b[0;36mpandas._libs.index.IndexEngine.get_loc\u001b[0;34m()\u001b[0m\n",
            "\u001b[0;32mpandas/_libs/hashtable_class_helper.pxi\u001b[0m in \u001b[0;36mpandas._libs.hashtable.PyObjectHashTable.get_item\u001b[0;34m()\u001b[0m\n",
            "\u001b[0;32mpandas/_libs/hashtable_class_helper.pxi\u001b[0m in \u001b[0;36mpandas._libs.hashtable.PyObjectHashTable.get_item\u001b[0;34m()\u001b[0m\n",
            "\u001b[0;31mKeyError\u001b[0m: 3",
            "\nThe above exception was the direct cause of the following exception:\n",
            "\u001b[0;31mKeyError\u001b[0m                                  Traceback (most recent call last)",
            "\u001b[0;32m<ipython-input-68-70f15cd63ffc>\u001b[0m in \u001b[0;36m<module>\u001b[0;34m()\u001b[0m\n\u001b[1;32m      1\u001b[0m \u001b[0;32mfor\u001b[0m \u001b[0mi\u001b[0m \u001b[0;32min\u001b[0m \u001b[0mrange\u001b[0m\u001b[0;34m(\u001b[0m\u001b[0;36m100\u001b[0m\u001b[0;34m)\u001b[0m\u001b[0;34m:\u001b[0m\u001b[0;34m\u001b[0m\u001b[0;34m\u001b[0m\u001b[0m\n\u001b[0;32m----> 2\u001b[0;31m   \u001b[0;32mif\u001b[0m \u001b[0mdf\u001b[0m\u001b[0;34m[\u001b[0m\u001b[0;36m3\u001b[0m\u001b[0;34m]\u001b[0m\u001b[0;34m[\u001b[0m\u001b[0mi\u001b[0m\u001b[0;34m]\u001b[0m \u001b[0;34m>\u001b[0m \u001b[0;36m0\u001b[0m\u001b[0;34m:\u001b[0m\u001b[0;34m\u001b[0m\u001b[0;34m\u001b[0m\u001b[0m\n\u001b[0m\u001b[1;32m      3\u001b[0m     \u001b[0mprint\u001b[0m\u001b[0;34m(\u001b[0m\u001b[0mdf\u001b[0m\u001b[0;34m[\u001b[0m\u001b[0;36m8\u001b[0m\u001b[0;34m]\u001b[0m\u001b[0;34m[\u001b[0m\u001b[0mi\u001b[0m\u001b[0;34m]\u001b[0m\u001b[0;34m+\u001b[0m\u001b[0;34m\" \"\u001b[0m\u001b[0;34m+\u001b[0m\u001b[0mdf\u001b[0m\u001b[0;34m[\u001b[0m\u001b[0;36m3\u001b[0m\u001b[0;34m]\u001b[0m\u001b[0;34m[\u001b[0m\u001b[0mi\u001b[0m\u001b[0;34m]\u001b[0m\u001b[0;34m)\u001b[0m\u001b[0;34m\u001b[0m\u001b[0;34m\u001b[0m\u001b[0m\n\u001b[1;32m      4\u001b[0m     \u001b[0;31m#x2[i] = df['Quantity of token2 sold'][i]/df['Quantity of token1 bought'][i]\u001b[0m\u001b[0;34m\u001b[0m\u001b[0;34m\u001b[0m\u001b[0;34m\u001b[0m\u001b[0m\n\u001b[1;32m      5\u001b[0m     \u001b[0;31m#x1[i] = 0\u001b[0m\u001b[0;34m\u001b[0m\u001b[0;34m\u001b[0m\u001b[0;34m\u001b[0m\u001b[0m\n",
            "\u001b[0;32m/usr/local/lib/python3.7/dist-packages/pandas/core/frame.py\u001b[0m in \u001b[0;36m__getitem__\u001b[0;34m(self, key)\u001b[0m\n\u001b[1;32m   2904\u001b[0m             \u001b[0;32mif\u001b[0m \u001b[0mself\u001b[0m\u001b[0;34m.\u001b[0m\u001b[0mcolumns\u001b[0m\u001b[0;34m.\u001b[0m\u001b[0mnlevels\u001b[0m \u001b[0;34m>\u001b[0m \u001b[0;36m1\u001b[0m\u001b[0;34m:\u001b[0m\u001b[0;34m\u001b[0m\u001b[0;34m\u001b[0m\u001b[0m\n\u001b[1;32m   2905\u001b[0m                 \u001b[0;32mreturn\u001b[0m \u001b[0mself\u001b[0m\u001b[0;34m.\u001b[0m\u001b[0m_getitem_multilevel\u001b[0m\u001b[0;34m(\u001b[0m\u001b[0mkey\u001b[0m\u001b[0;34m)\u001b[0m\u001b[0;34m\u001b[0m\u001b[0;34m\u001b[0m\u001b[0m\n\u001b[0;32m-> 2906\u001b[0;31m             \u001b[0mindexer\u001b[0m \u001b[0;34m=\u001b[0m \u001b[0mself\u001b[0m\u001b[0;34m.\u001b[0m\u001b[0mcolumns\u001b[0m\u001b[0;34m.\u001b[0m\u001b[0mget_loc\u001b[0m\u001b[0;34m(\u001b[0m\u001b[0mkey\u001b[0m\u001b[0;34m)\u001b[0m\u001b[0;34m\u001b[0m\u001b[0;34m\u001b[0m\u001b[0m\n\u001b[0m\u001b[1;32m   2907\u001b[0m             \u001b[0;32mif\u001b[0m \u001b[0mis_integer\u001b[0m\u001b[0;34m(\u001b[0m\u001b[0mindexer\u001b[0m\u001b[0;34m)\u001b[0m\u001b[0;34m:\u001b[0m\u001b[0;34m\u001b[0m\u001b[0;34m\u001b[0m\u001b[0m\n\u001b[1;32m   2908\u001b[0m                 \u001b[0mindexer\u001b[0m \u001b[0;34m=\u001b[0m \u001b[0;34m[\u001b[0m\u001b[0mindexer\u001b[0m\u001b[0;34m]\u001b[0m\u001b[0;34m\u001b[0m\u001b[0;34m\u001b[0m\u001b[0m\n",
            "\u001b[0;32m/usr/local/lib/python3.7/dist-packages/pandas/core/indexes/base.py\u001b[0m in \u001b[0;36mget_loc\u001b[0;34m(self, key, method, tolerance)\u001b[0m\n\u001b[1;32m   2898\u001b[0m                 \u001b[0;32mreturn\u001b[0m \u001b[0mself\u001b[0m\u001b[0;34m.\u001b[0m\u001b[0m_engine\u001b[0m\u001b[0;34m.\u001b[0m\u001b[0mget_loc\u001b[0m\u001b[0;34m(\u001b[0m\u001b[0mcasted_key\u001b[0m\u001b[0;34m)\u001b[0m\u001b[0;34m\u001b[0m\u001b[0;34m\u001b[0m\u001b[0m\n\u001b[1;32m   2899\u001b[0m             \u001b[0;32mexcept\u001b[0m \u001b[0mKeyError\u001b[0m \u001b[0;32mas\u001b[0m \u001b[0merr\u001b[0m\u001b[0;34m:\u001b[0m\u001b[0;34m\u001b[0m\u001b[0;34m\u001b[0m\u001b[0m\n\u001b[0;32m-> 2900\u001b[0;31m                 \u001b[0;32mraise\u001b[0m \u001b[0mKeyError\u001b[0m\u001b[0;34m(\u001b[0m\u001b[0mkey\u001b[0m\u001b[0;34m)\u001b[0m \u001b[0;32mfrom\u001b[0m \u001b[0merr\u001b[0m\u001b[0;34m\u001b[0m\u001b[0;34m\u001b[0m\u001b[0m\n\u001b[0m\u001b[1;32m   2901\u001b[0m \u001b[0;34m\u001b[0m\u001b[0m\n\u001b[1;32m   2902\u001b[0m         \u001b[0;32mif\u001b[0m \u001b[0mtolerance\u001b[0m \u001b[0;32mis\u001b[0m \u001b[0;32mnot\u001b[0m \u001b[0;32mNone\u001b[0m\u001b[0;34m:\u001b[0m\u001b[0;34m\u001b[0m\u001b[0;34m\u001b[0m\u001b[0m\n",
            "\u001b[0;31mKeyError\u001b[0m: 3"
          ]
        }
      ]
    },
    {
      "cell_type": "code",
      "metadata": {
        "id": "GeprpcBYRA0p",
        "colab": {
          "base_uri": "https://localhost:8080/",
          "height": 656
        },
        "outputId": "8fff8bdc-7019-4112-c43f-981d7f3710cf"
      },
      "source": [
        "plt.plot(x1, y, label = \"UNI is bought\")\n",
        "plt.plot(x2, y, label = \"UNI is sold\")\n",
        "# naming the x axis\n",
        "plt.xlabel('WETH-UNI Exchange Rate')\n",
        "# naming the y axis\n",
        "plt.ylabel('Trade Number')\n",
        "# title of the graph\n",
        "plt.title('Value of UNI in WETH')\n",
        "plt.show()"
      ],
      "execution_count": null,
      "outputs": [
        {
          "output_type": "error",
          "ename": "ValueError",
          "evalue": "ignored",
          "traceback": [
            "\u001b[0;31m---------------------------------------------------------------------------\u001b[0m",
            "\u001b[0;31mValueError\u001b[0m                                Traceback (most recent call last)",
            "\u001b[0;32m<ipython-input-62-ac297ba83888>\u001b[0m in \u001b[0;36m<module>\u001b[0;34m()\u001b[0m\n\u001b[0;32m----> 1\u001b[0;31m \u001b[0mplt\u001b[0m\u001b[0;34m.\u001b[0m\u001b[0mplot\u001b[0m\u001b[0;34m(\u001b[0m\u001b[0mx1\u001b[0m\u001b[0;34m,\u001b[0m \u001b[0my\u001b[0m\u001b[0;34m,\u001b[0m \u001b[0mlabel\u001b[0m \u001b[0;34m=\u001b[0m \u001b[0;34m\"UNI is bought\"\u001b[0m\u001b[0;34m)\u001b[0m\u001b[0;34m\u001b[0m\u001b[0;34m\u001b[0m\u001b[0m\n\u001b[0m\u001b[1;32m      2\u001b[0m \u001b[0mplt\u001b[0m\u001b[0;34m.\u001b[0m\u001b[0mplot\u001b[0m\u001b[0;34m(\u001b[0m\u001b[0mx2\u001b[0m\u001b[0;34m,\u001b[0m \u001b[0my\u001b[0m\u001b[0;34m,\u001b[0m \u001b[0mlabel\u001b[0m \u001b[0;34m=\u001b[0m \u001b[0;34m\"UNI is sold\"\u001b[0m\u001b[0;34m)\u001b[0m\u001b[0;34m\u001b[0m\u001b[0;34m\u001b[0m\u001b[0m\n\u001b[1;32m      3\u001b[0m \u001b[0;31m# naming the x axis\u001b[0m\u001b[0;34m\u001b[0m\u001b[0;34m\u001b[0m\u001b[0;34m\u001b[0m\u001b[0m\n\u001b[1;32m      4\u001b[0m \u001b[0mplt\u001b[0m\u001b[0;34m.\u001b[0m\u001b[0mxlabel\u001b[0m\u001b[0;34m(\u001b[0m\u001b[0;34m'WETH-UNI Exchange Rate'\u001b[0m\u001b[0;34m)\u001b[0m\u001b[0;34m\u001b[0m\u001b[0;34m\u001b[0m\u001b[0m\n\u001b[1;32m      5\u001b[0m \u001b[0;31m# naming the y axis\u001b[0m\u001b[0;34m\u001b[0m\u001b[0;34m\u001b[0m\u001b[0;34m\u001b[0m\u001b[0m\n",
            "\u001b[0;32m/usr/local/lib/python3.7/dist-packages/matplotlib/pyplot.py\u001b[0m in \u001b[0;36mplot\u001b[0;34m(scalex, scaley, data, *args, **kwargs)\u001b[0m\n\u001b[1;32m   2761\u001b[0m     return gca().plot(\n\u001b[1;32m   2762\u001b[0m         *args, scalex=scalex, scaley=scaley, **({\"data\": data} if data\n\u001b[0;32m-> 2763\u001b[0;31m         is not None else {}), **kwargs)\n\u001b[0m\u001b[1;32m   2764\u001b[0m \u001b[0;34m\u001b[0m\u001b[0m\n\u001b[1;32m   2765\u001b[0m \u001b[0;34m\u001b[0m\u001b[0m\n",
            "\u001b[0;32m/usr/local/lib/python3.7/dist-packages/matplotlib/axes/_axes.py\u001b[0m in \u001b[0;36mplot\u001b[0;34m(self, scalex, scaley, data, *args, **kwargs)\u001b[0m\n\u001b[1;32m   1645\u001b[0m         \"\"\"\n\u001b[1;32m   1646\u001b[0m         \u001b[0mkwargs\u001b[0m \u001b[0;34m=\u001b[0m \u001b[0mcbook\u001b[0m\u001b[0;34m.\u001b[0m\u001b[0mnormalize_kwargs\u001b[0m\u001b[0;34m(\u001b[0m\u001b[0mkwargs\u001b[0m\u001b[0;34m,\u001b[0m \u001b[0mmlines\u001b[0m\u001b[0;34m.\u001b[0m\u001b[0mLine2D\u001b[0m\u001b[0;34m)\u001b[0m\u001b[0;34m\u001b[0m\u001b[0;34m\u001b[0m\u001b[0m\n\u001b[0;32m-> 1647\u001b[0;31m         \u001b[0mlines\u001b[0m \u001b[0;34m=\u001b[0m \u001b[0;34m[\u001b[0m\u001b[0;34m*\u001b[0m\u001b[0mself\u001b[0m\u001b[0;34m.\u001b[0m\u001b[0m_get_lines\u001b[0m\u001b[0;34m(\u001b[0m\u001b[0;34m*\u001b[0m\u001b[0margs\u001b[0m\u001b[0;34m,\u001b[0m \u001b[0mdata\u001b[0m\u001b[0;34m=\u001b[0m\u001b[0mdata\u001b[0m\u001b[0;34m,\u001b[0m \u001b[0;34m**\u001b[0m\u001b[0mkwargs\u001b[0m\u001b[0;34m)\u001b[0m\u001b[0;34m]\u001b[0m\u001b[0;34m\u001b[0m\u001b[0;34m\u001b[0m\u001b[0m\n\u001b[0m\u001b[1;32m   1648\u001b[0m         \u001b[0;32mfor\u001b[0m \u001b[0mline\u001b[0m \u001b[0;32min\u001b[0m \u001b[0mlines\u001b[0m\u001b[0;34m:\u001b[0m\u001b[0;34m\u001b[0m\u001b[0;34m\u001b[0m\u001b[0m\n\u001b[1;32m   1649\u001b[0m             \u001b[0mself\u001b[0m\u001b[0;34m.\u001b[0m\u001b[0madd_line\u001b[0m\u001b[0;34m(\u001b[0m\u001b[0mline\u001b[0m\u001b[0;34m)\u001b[0m\u001b[0;34m\u001b[0m\u001b[0;34m\u001b[0m\u001b[0m\n",
            "\u001b[0;32m/usr/local/lib/python3.7/dist-packages/matplotlib/axes/_base.py\u001b[0m in \u001b[0;36m__call__\u001b[0;34m(self, *args, **kwargs)\u001b[0m\n\u001b[1;32m    214\u001b[0m                 \u001b[0mthis\u001b[0m \u001b[0;34m+=\u001b[0m \u001b[0margs\u001b[0m\u001b[0;34m[\u001b[0m\u001b[0;36m0\u001b[0m\u001b[0;34m]\u001b[0m\u001b[0;34m,\u001b[0m\u001b[0;34m\u001b[0m\u001b[0;34m\u001b[0m\u001b[0m\n\u001b[1;32m    215\u001b[0m                 \u001b[0margs\u001b[0m \u001b[0;34m=\u001b[0m \u001b[0margs\u001b[0m\u001b[0;34m[\u001b[0m\u001b[0;36m1\u001b[0m\u001b[0;34m:\u001b[0m\u001b[0;34m]\u001b[0m\u001b[0;34m\u001b[0m\u001b[0;34m\u001b[0m\u001b[0m\n\u001b[0;32m--> 216\u001b[0;31m             \u001b[0;32myield\u001b[0m \u001b[0;32mfrom\u001b[0m \u001b[0mself\u001b[0m\u001b[0;34m.\u001b[0m\u001b[0m_plot_args\u001b[0m\u001b[0;34m(\u001b[0m\u001b[0mthis\u001b[0m\u001b[0;34m,\u001b[0m \u001b[0mkwargs\u001b[0m\u001b[0;34m)\u001b[0m\u001b[0;34m\u001b[0m\u001b[0;34m\u001b[0m\u001b[0m\n\u001b[0m\u001b[1;32m    217\u001b[0m \u001b[0;34m\u001b[0m\u001b[0m\n\u001b[1;32m    218\u001b[0m     \u001b[0;32mdef\u001b[0m \u001b[0mget_next_color\u001b[0m\u001b[0;34m(\u001b[0m\u001b[0mself\u001b[0m\u001b[0;34m)\u001b[0m\u001b[0;34m:\u001b[0m\u001b[0;34m\u001b[0m\u001b[0;34m\u001b[0m\u001b[0m\n",
            "\u001b[0;32m/usr/local/lib/python3.7/dist-packages/matplotlib/axes/_base.py\u001b[0m in \u001b[0;36m_plot_args\u001b[0;34m(self, tup, kwargs)\u001b[0m\n\u001b[1;32m    340\u001b[0m \u001b[0;34m\u001b[0m\u001b[0m\n\u001b[1;32m    341\u001b[0m         \u001b[0;32mif\u001b[0m \u001b[0mx\u001b[0m\u001b[0;34m.\u001b[0m\u001b[0mshape\u001b[0m\u001b[0;34m[\u001b[0m\u001b[0;36m0\u001b[0m\u001b[0;34m]\u001b[0m \u001b[0;34m!=\u001b[0m \u001b[0my\u001b[0m\u001b[0;34m.\u001b[0m\u001b[0mshape\u001b[0m\u001b[0;34m[\u001b[0m\u001b[0;36m0\u001b[0m\u001b[0;34m]\u001b[0m\u001b[0;34m:\u001b[0m\u001b[0;34m\u001b[0m\u001b[0;34m\u001b[0m\u001b[0m\n\u001b[0;32m--> 342\u001b[0;31m             raise ValueError(f\"x and y must have same first dimension, but \"\n\u001b[0m\u001b[1;32m    343\u001b[0m                              f\"have shapes {x.shape} and {y.shape}\")\n\u001b[1;32m    344\u001b[0m         \u001b[0;32mif\u001b[0m \u001b[0mx\u001b[0m\u001b[0;34m.\u001b[0m\u001b[0mndim\u001b[0m \u001b[0;34m>\u001b[0m \u001b[0;36m2\u001b[0m \u001b[0;32mor\u001b[0m \u001b[0my\u001b[0m\u001b[0;34m.\u001b[0m\u001b[0mndim\u001b[0m \u001b[0;34m>\u001b[0m \u001b[0;36m2\u001b[0m\u001b[0;34m:\u001b[0m\u001b[0;34m\u001b[0m\u001b[0;34m\u001b[0m\u001b[0m\n",
            "\u001b[0;31mValueError\u001b[0m: x and y must have same first dimension, but have shapes (0,) and (1,)"
          ]
        },
        {
          "output_type": "display_data",
          "data": {
            "image/png": "[encoded data removed]",
            "text/plain": [
              "<Figure size 432x288 with 1 Axes>"
            ]
          },
          "metadata": {
            "tags": [],
            "needs_background": "light"
          }
        }
      ]
    }
  ]
}